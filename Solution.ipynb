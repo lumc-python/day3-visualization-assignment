{
 "cells": [
  {
   "cell_type": "markdown",
   "metadata": {},
   "source": [
    "# Histogram of GC content\n",
    "\n",
    "## The Task\n",
    "\n",
    "1. Create a jupyter notebook which contains a histogram of GC content\n",
    "for all of the sequences in ```data/records.fa```.\n",
    "  - Change the number of bins to 20\n",
    "  - Add sensible titles for the axes.\n",
    "  - Change the color of the bars and their edges.\n",
    "\n",
    "2. In a different notebook cell\n",
    "  - Create a boxplot of the same data\n",
    "  - Label the axes.\n",
    "\n",
    "3. In another notebook cell\n",
    "  - create a single figure which contains both plots as subplots.\n",
    "  - Use 1 row and 2 columns.\n",
    "\n",
    "4. Submit the notebook as your answer.\n",
    "\n",
    "\n",
    "## Hints\n",
    "\n",
    "This task builds upon the assignment from yesterday.\n",
    "\n",
    "Use the ```calc_gc_percent``` function from yesterday to calculate the gc content of each sequence.\n",
    "\n",
    "The matplotlib **hist** and **boxplot** functions accept a **list** of values as input.\n",
    "\n",
    "If you find that the two plots in task 3 overlap, try adding ```tight_layout()``` after the plotting code."
   ]
  },
  {
   "cell_type": "code",
   "execution_count": 30,
   "metadata": {},
   "outputs": [
    {
     "name": "stdout",
     "output_type": "stream",
     "text": [
      "Populating the interactive namespace from numpy and matplotlib\n"
     ]
    }
   ],
   "source": [
    "%pylab inline\n",
    "\n",
    "def calc_gc_percent(seq):\n",
    "    at_count, gc_count = 0, 0\n",
    "    for char in seq:\n",
    "        if char in ('A', 'T'):\n",
    "            at_count += 1\n",
    "        elif char in ('G', 'C'):\n",
    "            gc_count += 1\n",
    "\n",
    "    return gc_count * 100.0 / (gc_count + at_count)\n",
    "\n",
    "gc_contents = []\n",
    "try:\n",
    "    f = open(\"data/records.fa\", 'r')\n",
    "    for line in f:\n",
    "        if not line.startswith(\">\"):\n",
    "            seq = line.strip().upper()\n",
    "            gc_contents.append(calc_gc_percent(seq))\n",
    "finally:\n",
    "    f.close()"
   ]
  },
  {
   "cell_type": "code",
   "execution_count": 31,
   "metadata": {},
   "outputs": [
    {
     "data": {
      "text/plain": [
       "<matplotlib.text.Text at 0x7f60100cbad0>"
      ]
     },
     "execution_count": 31,
     "metadata": {},
     "output_type": "execute_result"
    },
    {
     "data": {
      "image/png": "[encoded data removed]",
      "text/plain": [
       "<matplotlib.figure.Figure at 0x7f6010321c10>"
      ]
     },
     "metadata": {},
     "output_type": "display_data"
    }
   ],
   "source": [
    "hist(gc_contents, facecolor=\"green\", edgecolor=\"black\", bins=20)\n",
    "ylabel(\"Count\")\n",
    "xlabel(\"GC Content (%)\")"
   ]
  },
  {
   "cell_type": "code",
   "execution_count": 32,
   "metadata": {},
   "outputs": [
    {
     "data": {
      "text/plain": [
       "<matplotlib.text.Text at 0x7f601004ced0>"
      ]
     },
     "execution_count": 32,
     "metadata": {},
     "output_type": "execute_result"
    },
    {
     "data": {
      "image/png": "[encoded data removed]",
      "text/plain": [
       "<matplotlib.figure.Figure at 0x7f600ff9e450>"
      ]
     },
     "metadata": {},
     "output_type": "display_data"
    }
   ],
   "source": [
    "boxplot(gc_contents)\n",
    "ylabel(\"GC Content (%)\")\n",
    "xlabel(\"Sequences\")"
   ]
  },
  {
   "cell_type": "code",
   "execution_count": 33,
   "metadata": {},
   "outputs": [
    {
     "data": {
      "image/png": "[encoded data removed]",
      "text/plain": [
       "<matplotlib.figure.Figure at 0x7f6010098d50>"
      ]
     },
     "metadata": {},
     "output_type": "display_data"
    }
   ],
   "source": [
    "subplot(1,2,1)\n",
    "hist(gc_contents, facecolor=\"green\", edgecolor=\"black\", bins=20)\n",
    "ylabel(\"Count\")\n",
    "xlabel(\"GC Content (%)\")\n",
    "\n",
    "subplot(1,2,2)\n",
    "boxplot(gc_contents)\n",
    "ylabel(\"GC Content (%)\")\n",
    "xlabel(\"Sequences\")\n",
    "\n",
    "tight_layout()"
   ]
  },
  {
   "cell_type": "code",
   "execution_count": null,
   "metadata": {
    "collapsed": true
   },
   "outputs": [],
   "source": []
  }
 ],
 "metadata": {
  "kernelspec": {
   "display_name": "Python 2",
   "language": "python",
   "name": "python2"
  },
  "language_info": {
   "codemirror_mode": {
    "name": "ipython",
    "version": 2
   },
   "file_extension": ".py",
   "mimetype": "text/x-python",
   "name": "python",
   "nbconvert_exporter": "python",
   "pygments_lexer": "ipython2",
   "version": "2.7.13"
  }
 },
 "nbformat": 4,
 "nbformat_minor": 2
}
